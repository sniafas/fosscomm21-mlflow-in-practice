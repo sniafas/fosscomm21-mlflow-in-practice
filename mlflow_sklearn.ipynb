{
 "cells": [
  {
   "cell_type": "markdown",
   "id": "a66e5aff-e313-4e28-a0bb-a4a2d65409d6",
   "metadata": {},
   "source": [
    "# FOSSCOMM 21 <a href=\"https://pretalx.2021.fosscomm.gr/fosscomm-2021/talk/X9VPTZ/\"> <img src=\"images/logo.png\" alt=\"Header\" style=\"width: 100px;\"/> </a>"
   ]
  },
  {
   "cell_type": "markdown",
   "id": "0b346067-41df-42a8-9ffb-d82ea0c4c031",
   "metadata": {},
   "source": [
    "## Workshop - MLOps in practice w/ <a href=\"https://mlflow.org\"> <img src=\"images/mlflow.png\" alt=\"Header\" style=\"width: 100px;\"/> </a>"
   ]
  },
  {
   "cell_type": "markdown",
   "id": "61a445d3-88fc-4e68-8255-2573f9ebf9a1",
   "metadata": {},
   "source": [
    "MLOps are becoming an essential component in order to automate your ML project lifecycle.\n",
    "As machine learning models become part of real-world applications, is vital for engineers to shift from the research oriented approach to business and product needs.\n",
    "\n",
    "The purpose of the workshop is to demonstrate MLFlow capabilities to machine learning and open source community. MLFlow is a powerful tool, that can integrate with most of the modern ML frameworks, while is adopted by many famous organizations, to leverage a machine learning lifecycle e.g. keep track of ML projects, log different models with numerous of parameters, register and deploy models to production.\n",
    "\n",
    "The workshop will demonstrate MLFlow API covering the following topics:\n",
    "- install MLFlow and walkthrough in MLFlow server\n",
    "- develop a ml pipeline\n",
    "- train/evaluate models\n",
    "- use MLFlow to track parameters and log trained models and datasets\n",
    "- deploy models and serve them with the built-in MLFlow API\n",
    "- consume the deployed models through its MLFlow built-in endpoint"
   ]
  },
  {
   "cell_type": "markdown",
   "id": "9e988759-a666-47c2-87f0-597aad3ee7a7",
   "metadata": {},
   "source": [
    "## Install project dependencies"
   ]
  },
  {
   "cell_type": "code",
   "execution_count": null,
   "id": "ae0d48da-b9c7-4b1d-a808-f588b0014d26",
   "metadata": {
    "tags": []
   },
   "outputs": [],
   "source": [
    "!pip install --user poetry\n",
    "!poetry install"
   ]
  },
  {
   "cell_type": "code",
   "execution_count": null,
   "id": "178c36b0-a75d-434e-a208-69efe81b0950",
   "metadata": {},
   "outputs": [],
   "source": [
    "import numpy as np\n",
    "\n",
    "from sklearn.ensemble import RandomForestClassifier\n",
    "from sklearn.linear_model import LogisticRegression\n",
    "from sklearn.preprocessing import MinMaxScaler\n",
    "from sklearn.model_selection import train_test_split\n",
    "\n",
    "import mlflow\n",
    "import mlflow.sklearn\n",
    "\n",
    "from tools import eval_metrics, dump_pickled_data"
   ]
  },
  {
   "cell_type": "code",
   "execution_count": null,
   "id": "dab27164-b033-49ae-9fbc-8d00cf115698",
   "metadata": {},
   "outputs": [],
   "source": [
    "# set tracking server uri\n",
    "mlflow.set_tracking_uri(\"http://127.0.0.1:5000\")"
   ]
  },
  {
   "cell_type": "code",
   "execution_count": null,
   "id": "5c208ef7-3325-4713-93e9-595a8b458018",
   "metadata": {
    "tags": []
   },
   "outputs": [],
   "source": [
    "# Run in terminal\n",
    "\"\"\"\n",
    "mlflow server \\\n",
    "    --backend-store-uri sqlite:///imagine.sqlite \\\n",
    "    --default-artifact-root ./mlruns\n",
    "\"\"\""
   ]
  },
  {
   "cell_type": "code",
   "execution_count": null,
   "id": "bd6e77e5-e08b-467d-aa5d-725c316e3de2",
   "metadata": {},
   "outputs": [],
   "source": [
    "# set experiment name\n",
    "mlflow.set_experiment(\"fosscomm_runs\")"
   ]
  },
  {
   "cell_type": "markdown",
   "id": "a683a5f7-92ea-4c36-b07c-fc29490c1a26",
   "metadata": {},
   "source": [
    "# Linear Regression"
   ]
  },
  {
   "cell_type": "code",
   "execution_count": null,
   "id": "41aae548-5715-4d33-b6a3-f0e0b770dcf4",
   "metadata": {},
   "outputs": [],
   "source": [
    "model_name=\"lr_model\"\n",
    "#model_name=\"rfr_model\""
   ]
  },
  {
   "cell_type": "markdown",
   "id": "0e5eec00-2755-470c-acb9-cd93f7b50e2d",
   "metadata": {},
   "source": [
    "## ETL"
   ]
  },
  {
   "cell_type": "code",
   "execution_count": null,
   "id": "dbf27e84-8d57-4d23-8fed-c06b1ab3807c",
   "metadata": {},
   "outputs": [],
   "source": [
    "data = load_iris()"
   ]
  },
  {
   "cell_type": "code",
   "execution_count": null,
   "id": "21a59031-b5c1-467b-8f3a-159bb832768f",
   "metadata": {},
   "outputs": [],
   "source": [
    "classes = data[\"target_names\"]\n",
    "feature_names = data[\"feature_names\"]\n",
    "x = data[\"data\"]\n",
    "y = data[\"target\"]"
   ]
  },
  {
   "cell_type": "code",
   "execution_count": null,
   "id": "83cf1be7-3821-4d04-b712-c32c7c3e9c3d",
   "metadata": {},
   "outputs": [],
   "source": [
    "feature_names"
   ]
  },
  {
   "cell_type": "code",
   "execution_count": null,
   "id": "92575147-ad2e-4c61-ade4-ee8a54ad2eac",
   "metadata": {},
   "outputs": [],
   "source": [
    "classes"
   ]
  },
  {
   "cell_type": "markdown",
   "id": "483ed803-d6e8-41ce-be84-f02e9d31be92",
   "metadata": {},
   "source": [
    "## Transform"
   ]
  },
  {
   "cell_type": "code",
   "execution_count": null,
   "id": "029fcd04-c22d-4bba-9d33-6834c9066aa0",
   "metadata": {},
   "outputs": [],
   "source": [
    "scaler =  MinMaxScaler()\n",
    "x_sc = scaler.fit_transform(x)"
   ]
  },
  {
   "cell_type": "markdown",
   "id": "d22722be-b126-499b-862f-520f27bcf332",
   "metadata": {},
   "source": [
    "## Split dataset"
   ]
  },
  {
   "cell_type": "code",
   "execution_count": null,
   "id": "0e94ef35-3031-4dbb-90f4-541999ea5275",
   "metadata": {},
   "outputs": [],
   "source": [
    "x_train, x_test, y_train, y_test = train_test_split(x_sc, y, test_size=0.2, random_state=0)"
   ]
  },
  {
   "cell_type": "code",
   "execution_count": null,
   "id": "1ea1d78c-f9a2-4fec-bf53-d37a4d40eff5",
   "metadata": {},
   "outputs": [],
   "source": [
    "train = {'x':x_train, 'y':y_train}\n",
    "test = {'x':x_test, 'y':y_test}"
   ]
  },
  {
   "cell_type": "code",
   "execution_count": null,
   "id": "36bb2266-4a24-4aa6-8475-5c9985abe294",
   "metadata": {},
   "outputs": [],
   "source": [
    "dump_pickled_data('data/train_dataset', train)\n",
    "dump_pickled_data('data/test_dataset', test)"
   ]
  },
  {
   "cell_type": "markdown",
   "id": "528ee5c9-78b4-4ef2-8b95-9bf6d7f902f8",
   "metadata": {},
   "source": [
    "## 1. Regular Train Model"
   ]
  },
  {
   "cell_type": "code",
   "execution_count": null,
   "id": "df606fbb-a39f-4416-a6c7-e7225744866e",
   "metadata": {},
   "outputs": [],
   "source": [
    "params = {\"C\": 1.0, \"random_state\": 42}"
   ]
  },
  {
   "cell_type": "code",
   "execution_count": null,
   "id": "1924b55c-4d93-4c66-a76d-8ef6f37856ed",
   "metadata": {},
   "outputs": [],
   "source": [
    "regression_model = LogisticRegression(**params).fit(x_train, y_train)"
   ]
  },
  {
   "cell_type": "code",
   "execution_count": null,
   "id": "c51d47a9-77bb-4953-89d8-5cd393893e74",
   "metadata": {},
   "outputs": [],
   "source": [
    "train_accuracy = regression_model.score(x_train, y_train)\n",
    "train_accuracy"
   ]
  },
  {
   "cell_type": "code",
   "execution_count": null,
   "id": "b607b247-57e5-40ed-803d-7e30db30b6d3",
   "metadata": {},
   "outputs": [],
   "source": [
    "test_accuracy = regression_model.score(x_test, y_test)\n",
    "test_accuracy"
   ]
  },
  {
   "cell_type": "code",
   "execution_count": null,
   "id": "e9aa62b4-7f4e-4050-acb9-f48de659235c",
   "metadata": {
    "tags": []
   },
   "outputs": [],
   "source": [
    "y_preds = regression_model.predict(x_test)\n",
    "y_preds"
   ]
  },
  {
   "cell_type": "code",
   "execution_count": null,
   "id": "fa8046f9-7d5b-4925-bd34-8e9432a21dd8",
   "metadata": {},
   "outputs": [],
   "source": [
    "acc, f1 = eval_metrics(y_test, y_preds)"
   ]
  },
  {
   "cell_type": "markdown",
   "id": "57d1d685-073b-41f6-8314-d3a9d3197fad",
   "metadata": {},
   "source": [
    "## 2. MLflow training"
   ]
  },
  {
   "cell_type": "markdown",
   "id": "e93dce29-8510-4008-a68b-6c49bec5e7f7",
   "metadata": {},
   "source": [
    "What do we track ?\n",
    "\n",
    "- Experiments: experiment names, run names\n",
    "- Parameters: (hyper)parameters inputs of code/model\n",
    "- Metrics: numeric values accuracy, f1, loss, etc (updated over time)\n",
    "- Artifacts: files, data, logs and models\n",
    "- Configuration: deployment environment yaml, dependency libraries\n",
    "- Version: Code version, Model version, model stage \n",
    "- Tags & Notes: Auxiliary information and description about a run\n"
   ]
  },
  {
   "cell_type": "markdown",
   "id": "2ccb8bf2-e157-4fac-97a1-5eb64a6d13e6",
   "metadata": {},
   "source": [
    "### MLflow Client"
   ]
  },
  {
   "cell_type": "code",
   "execution_count": null,
   "id": "b09e056b-8ae7-416c-9dca-2ff937b0f083",
   "metadata": {},
   "outputs": [],
   "source": [
    "from mlflow.tracking import MlflowClient\n",
    "\n",
    "# create an mlflow client\n",
    "client = MlflowClient()"
   ]
  },
  {
   "cell_type": "markdown",
   "id": "89e1aba0-f17f-46f7-99e3-de145ca91d77",
   "metadata": {},
   "source": [
    "### Start mlflow run"
   ]
  },
  {
   "cell_type": "code",
   "execution_count": null,
   "id": "8ef8b5ff-941a-4b61-b682-36fc926d564f",
   "metadata": {},
   "outputs": [],
   "source": [
    "with mlflow.start_run(run_name=model_name) as train_run:\n",
    "       \n",
    "    regression_model = LogisticRegression().fit(x_train, y_train)\n",
    "    \n",
    "    # predictions\n",
    "    y_preds = regression_model.predict(x_test)       \n",
    "    \n",
    "    acc, f1 = eval_metrics(y_test, y_preds)    \n",
    "    \n",
    "    # mlflow logs\n",
    "    mlflow.log_params(params)\n",
    "    mlflow.log_artifact(\"data/train_dataset\", artifact_path=\"datasets\")\n",
    "    mlflow.log_artifact(\"data/test_dataset\", artifact_path=\"datasets\")\n",
    "    \n",
    "    mlflow.sklearn.log_model(\n",
    "        sk_model=regression_model,\n",
    "        artifact_path=\"model\",\n",
    "        registered_model_name=model_name\n",
    "    )\n",
    "    \n",
    "    mlflow.log_metrics({\"acc\":acc, \"f1\":f1})\n",
    "    \n",
    "    # load the latest model version\n",
    "    for mv in client.get_latest_versions(model_name, [\"None\"]):\n",
    "        model_version = mv.version\n",
    "        \n",
    "    # transition model to production\n",
    "    client.transition_model_version_stage(\n",
    "        name=model_name, version=model_version, stage=\"Production\", archive_existing_versions=True\n",
    "    )"
   ]
  },
  {
   "cell_type": "markdown",
   "id": "dd056f3e-0f0f-4603-9a40-13af04c8b470",
   "metadata": {},
   "source": [
    "## 3. Deploy the model"
   ]
  },
  {
   "cell_type": "markdown",
   "id": "65d91665-0eca-4a8f-a072-b7e0fc75559f",
   "metadata": {},
   "source": [
    "### Model server"
   ]
  },
  {
   "cell_type": "markdown",
   "id": "e2af3491-665b-4fe6-b1d4-c90693a5ea05",
   "metadata": {},
   "source": [
    "> mlflow models serve -m \"models:/lr_model/Production\" -p 5001 --no-conda"
   ]
  },
  {
   "cell_type": "markdown",
   "id": "89ed4b2b-c2f3-4884-b1b9-6b84c458ebb8",
   "metadata": {},
   "source": [
    "> curl http://127.0.0.1:5001/invocations -H 'Content-Type: application/json; format=pandas-records' -d '[[0.21666667, 0.53333333, 0.69491525, 0.0095833333]]'"
   ]
  },
  {
   "cell_type": "code",
   "execution_count": null,
   "id": "b7844f1b-0deb-4a95-81c5-1cb5eb60a2ae",
   "metadata": {},
   "outputs": [],
   "source": [
    "import json\n",
    "import requests"
   ]
  },
  {
   "cell_type": "code",
   "execution_count": null,
   "id": "16e56654-0508-4466-be53-08cfd9b38be3",
   "metadata": {},
   "outputs": [],
   "source": [
    "headers = {\"Content-Type\": \"application/json; format=pandas-records\"}\n",
    "base_url = \"http://127.0.0.1:5001/invocations\""
   ]
  },
  {
   "cell_type": "code",
   "execution_count": null,
   "id": "6029e66c-7273-4a31-be03-68dbbdf3b641",
   "metadata": {},
   "outputs": [],
   "source": [
    "data = [[0.21666667, 0.53333333, 0.69491525, 0.95833333], [0.21666667, 0.53333333, 0.69491525, 0.0095833333]]\n",
    "data = json.dumps(data)"
   ]
  },
  {
   "cell_type": "markdown",
   "id": "c4243b0f-14ab-4605-9bf8-80299e0ee391",
   "metadata": {},
   "source": [
    "### Send a request to MLflow API"
   ]
  },
  {
   "cell_type": "code",
   "execution_count": null,
   "id": "a87defa0-47dd-497a-8f28-043445632bd5",
   "metadata": {},
   "outputs": [],
   "source": [
    "response = requests.post(base_url, data=data, headers=headers)\n",
    "prediction = response.json()\n",
    "print(f\"Flower:{classes[prediction]}\")"
   ]
  },
  {
   "cell_type": "markdown",
   "id": "28d9e88d-9afe-4ecb-9418-8856cadbb14b",
   "metadata": {},
   "source": [
    "### Local Inference"
   ]
  },
  {
   "cell_type": "code",
   "execution_count": null,
   "id": "3b292630-13b2-4b40-9b7d-440fd9b7b64e",
   "metadata": {},
   "outputs": [],
   "source": [
    "prediction = regression_model.predict([[0.21666667, 0.53333333, 0.69491525, 0.95833333], [0.21666667, 0.53333333, 0.69491525, 0.0095833333]])\n",
    "print(f\"Flower:{classes[prediction]}\")"
   ]
  }
 ],
 "metadata": {
  "kernelspec": {
   "display_name": "imagine-kernel",
   "language": "python",
   "name": "imagine-kernel"
  },
  "language_info": {
   "codemirror_mode": {
    "name": "ipython",
    "version": 3
   },
   "file_extension": ".py",
   "mimetype": "text/x-python",
   "name": "python",
   "nbconvert_exporter": "python",
   "pygments_lexer": "ipython3",
   "version": "3.8.7"
  }
 },
 "nbformat": 4,
 "nbformat_minor": 5
}
